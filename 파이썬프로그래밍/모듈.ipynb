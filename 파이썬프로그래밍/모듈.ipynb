{
 "cells": [
  {
   "cell_type": "markdown",
   "metadata": {},
   "source": [
    "### 모듈\n",
    "#### : 함수나 변수 도는 클래스를 모아놓은 소스 파일"
   ]
  },
  {
   "cell_type": "code",
   "execution_count": 5,
   "metadata": {},
   "outputs": [],
   "source": [
    "# def add(a,b):\n",
    "#     c = a + b\n",
    "#     return c\n",
    "\n",
    "# def subtract(a,b):\n",
    "#     c = a - b\n",
    "#     return c\n",
    "\n",
    "# def multiply(a,b):\n",
    "#     c = a * b\n",
    "#     return c\n",
    "\n",
    "# def divide(a,b):\n",
    "#     c = a / b\n",
    "#     return c\n",
    "\n",
    "# print('나는 모듈입니다')\n",
    "\n",
    "# if __name__ == '__main__':\n",
    "#     print(add(10,20))\n",
    "#     print(subtract(30,10))"
   ]
  },
  {
   "cell_type": "code",
   "execution_count": 20,
   "metadata": {},
   "outputs": [
    {
     "name": "stdout",
     "output_type": "stream",
     "text": [
      "300\n",
      "200\n",
      "30000\n",
      "3.0\n"
     ]
    }
   ],
   "source": [
    "import calculator as cl     # claculator 모듈을 가져옴 이름을 cl 로 접근가능하게 함\n",
    "\n",
    "if __name__ == '__main__':\n",
    "    ret = cl.add(100,200)\n",
    "    print(ret)\n",
    "\n",
    "    ret = cl.subtract(300,100)\n",
    "    print(ret)\n",
    "\n",
    "    ret = cl.multiply(300,100)\n",
    "    print(ret)\n",
    "\n",
    "    ret = cl.divide(300,100)\n",
    "    print(ret)\n",
    "\n",
    "# # del add\n",
    "# add(10,20)"
   ]
  },
  {
   "cell_type": "code",
   "execution_count": 15,
   "metadata": {},
   "outputs": [
    {
     "data": {
      "text/plain": [
       "30"
      ]
     },
     "execution_count": 15,
     "metadata": {},
     "output_type": "execute_result"
    }
   ],
   "source": [
    "# 패키지에서 일부 함수나 클래스를 가져오는 경우\n",
    "from calculator import add\n",
    "from calculator import add,subtract\n",
    "from calculator import *\n",
    "\n",
    "add(10,20)"
   ]
  },
  {
   "cell_type": "code",
   "execution_count": null,
   "metadata": {},
   "outputs": [],
   "source": [
    "# first.py (import second) ,  second.py,  third.py\n",
    "\n",
    ">> Python first.py    # __name__ 은 '__main__'  ,   secod.py의 __name__은 'second'\n",
    ">> Python second.py    # __name__ 은 '__main__'  ,   "
   ]
  },
  {
   "cell_type": "code",
   "execution_count": null,
   "metadata": {},
   "outputs": [],
   "source": []
  }
 ],
 "metadata": {
  "kernelspec": {
   "display_name": "Python 3",
   "language": "python",
   "name": "python3"
  },
  "language_info": {
   "codemirror_mode": {
    "name": "ipython",
    "version": 3
   },
   "file_extension": ".py",
   "mimetype": "text/x-python",
   "name": "python",
   "nbconvert_exporter": "python",
   "pygments_lexer": "ipython3",
   "version": "3.7.6"
  }
 },
 "nbformat": 4,
 "nbformat_minor": 4
}
