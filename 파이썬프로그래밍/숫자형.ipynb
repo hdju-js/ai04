{
 "cells": [
  {
   "cell_type": "code",
   "execution_count": 1,
   "metadata": {},
   "outputs": [
    {
     "data": {
      "text/plain": [
       "'3.7.6 (default, Jan  8 2020, 20:23:39) [MSC v.1916 64 bit (AMD64)]'"
      ]
     },
     "execution_count": 1,
     "metadata": {},
     "output_type": "execute_result"
    }
   ],
   "source": [
    "import sys\n",
    "sys.version"
   ]
  },
  {
   "cell_type": "code",
   "execution_count": 2,
   "metadata": {},
   "outputs": [
    {
     "name": "stdout",
     "output_type": "stream",
     "text": [
      "hello\n"
     ]
    }
   ],
   "source": [
    "print('hello')\n",
    "# shift + enter"
   ]
  },
  {
   "cell_type": "markdown",
   "metadata": {},
   "source": [
    "### 단축키 요약\n",
    "- shift + enter :  셀실행 후 다음 셀로 이동\n",
    "- alt + enter :    셀실행 후 다음에 셀을 추가\n",
    "- ctrl + '/'  :    주석문 설정/해제\n",
    "- tab         :    들여쓰기\n",
    "- shift + Tab :    들여스기 해제 "
   ]
  },
  {
   "cell_type": "markdown",
   "metadata": {},
   "source": [
    "## 파이썬 자료형\n",
    "### [1 ] 파이썬 숫자형\n",
    "- 정수형"
   ]
  },
  {
   "cell_type": "code",
   "execution_count": 3,
   "metadata": {},
   "outputs": [
    {
     "name": "stdout",
     "output_type": "stream",
     "text": [
      "12345\n",
      "100\n"
     ]
    },
    {
     "data": {
      "text/plain": [
       "12445"
      ]
     },
     "execution_count": 3,
     "metadata": {},
     "output_type": "execute_result"
    }
   ],
   "source": [
    "a = 12345\n",
    "b = 100\n",
    "c = a + b\n",
    "# print(c)\n",
    "print(a)\n",
    "print(b)\n",
    "c"
   ]
  },
  {
   "cell_type": "code",
   "execution_count": 4,
   "metadata": {},
   "outputs": [
    {
     "name": "stdout",
     "output_type": "stream",
     "text": [
      "10\n",
      "0b1111\n",
      "0xa\n",
      "0o12\n"
     ]
    },
    {
     "data": {
      "text/plain": [
       "int"
      ]
     },
     "execution_count": 4,
     "metadata": {},
     "output_type": "execute_result"
    }
   ],
   "source": [
    "a = 10\n",
    "print(int(a))\n",
    "print(bin(15))\n",
    "print(hex(a))\n",
    "print(oct(a))\n",
    "type(a)"
   ]
  },
  {
   "cell_type": "markdown",
   "metadata": {},
   "source": [
    "- 실수형(float)"
   ]
  },
  {
   "cell_type": "code",
   "execution_count": 5,
   "metadata": {},
   "outputs": [
    {
     "name": "stdout",
     "output_type": "stream",
     "text": [
      "10.54\n",
      "\n"
     ]
    }
   ],
   "source": [
    "f = 10.54\n",
    "print(f)\n",
    "type(f)\n",
    "b = float(a)\n",
    "type(b)\n",
    "print()\n"
   ]
  },
  {
   "cell_type": "markdown",
   "metadata": {},
   "source": [
    "### 객체"
   ]
  },
  {
   "cell_type": "code",
   "execution_count": 6,
   "metadata": {},
   "outputs": [
    {
     "name": "stdout",
     "output_type": "stream",
     "text": [
      "0x7ffb12e9a530\n",
      "0x7ffb12e9a670\n",
      "0x7ffb12e9a530\n",
      "0x7ffb12e9a670\n"
     ]
    }
   ],
   "source": [
    "a = 30\n",
    "print(hex(id(a)))\n",
    "b = 40\n",
    "print(hex(id(b)))\n",
    "b = a\n",
    "print(hex(id(b)))\n",
    "b = 40\n",
    "print(hex(id(b)))\n",
    "# del b\n",
    "# print(hex(id(b)))"
   ]
  },
  {
   "cell_type": "markdown",
   "metadata": {},
   "source": [
    "### 사칙연산 : +, -. x, / , %, //, ***"
   ]
  },
  {
   "cell_type": "code",
   "execution_count": 7,
   "metadata": {},
   "outputs": [
    {
     "name": "stdout",
     "output_type": "stream",
     "text": [
      "3.3333333333333335 <class 'float'>\n",
      "1\n",
      "3\n",
      "1000\n"
     ]
    }
   ],
   "source": [
    "a = 10\n",
    "b = 3\n",
    "c = a + b\n",
    "c = a - b\n",
    "c = a * b\n",
    "f = a / b    # float 형\n",
    "print(f,type(f))\n",
    "\n",
    "g = a % b    #  나머지\n",
    "print(g)     # 1\n",
    " \n",
    "f2 = a // b  # 정수 나눗셈 \n",
    "print(f2)    #  3\n",
    "\n",
    "h = a ** b   # 10^3\n",
    "print(h)     # 1000"
   ]
  },
  {
   "cell_type": "markdown",
   "metadata": {},
   "source": [
    "### 표준 입출력\n",
    "\n",
    "#### 표준입력 : 변수 = input()"
   ]
  },
  {
   "cell_type": "code",
   "execution_count": 9,
   "metadata": {},
   "outputs": [
    {
     "name": "stdout",
     "output_type": "stream",
     "text": [
      "10\n",
      "10\n"
     ]
    }
   ],
   "source": [
    "a = input()\n",
    "print(a)"
   ]
  },
  {
   "cell_type": "code",
   "execution_count": 17,
   "metadata": {},
   "outputs": [
    {
     "name": "stdout",
     "output_type": "stream",
     "text": [
      "영어점수:50\n",
      "수학점수:80\n",
      "130\n"
     ]
    }
   ],
   "source": [
    "english = input('영어점수:')\n",
    "math = input('수학점수:')\n",
    "total = int(english) + int(math)    # int 형 변환\n",
    "print(total)"
   ]
  },
  {
   "cell_type": "markdown",
   "metadata": {},
   "source": [
    "#### 표준출력 : print()\n"
   ]
  },
  {
   "cell_type": "code",
   "execution_count": 21,
   "metadata": {},
   "outputs": [
    {
     "name": "stdout",
     "output_type": "stream",
     "text": [
      "add :  9 sub =  2\n",
      "영어: 50 수학: 80 총점: 130\n",
      "1 2\n",
      "3 4\n"
     ]
    }
   ],
   "source": [
    "print('add : ', 4 + 5, 'sub = ', 4 - 2)\n",
    "print('영어:', int(english), '수학:',int(math),'총점:',total)\n",
    "print(1,2) ; print(3,4)          # 마지막에 자동으로 '\\n'"
   ]
  },
  {
   "cell_type": "code",
   "execution_count": 28,
   "metadata": {},
   "outputs": [
    {
     "name": "stdout",
     "output_type": "stream",
     "text": [
      "1 2 3 4\n"
     ]
    }
   ],
   "source": [
    "print(1,2 , end = ' ')   # 줄바꿈 대신에 space 사용\n",
    "print(3,4)"
   ]
  },
  {
   "cell_type": "code",
   "execution_count": 31,
   "metadata": {},
   "outputs": [
    {
     "name": "stdout",
     "output_type": "stream",
     "text": [
      "5:6:7\n"
     ]
    }
   ],
   "source": [
    "print(5,6,7, sep=':')   # space대신에 ':' 으로 출력"
   ]
  },
  {
   "cell_type": "markdown",
   "metadata": {},
   "source": [
    "### print formatting"
   ]
  },
  {
   "cell_type": "code",
   "execution_count": 44,
   "metadata": {},
   "outputs": [
    {
     "name": "stdout",
     "output_type": "stream",
     "text": [
      "int형: 10\n",
      "float형: 1.234000\n",
      "16진수: 0xa\n",
      "문자열: Hello Python\n",
      "문자열: Hello Python  int형: 10\n"
     ]
    }
   ],
   "source": [
    "num_1 = 10\n",
    "num_2 = 1.234\n",
    "str_1 = 'Hello Python'\n",
    "\n",
    "print('int형: %d'%num_1)\n",
    "print('float형: %f'%num_2)\n",
    "print('16진수: 0x%x'%num_1)\n",
    "\n",
    "print('문자열: %s'%str_1)\n",
    "print('문자열: %s  int형: %d'%(str_1,num_1))"
   ]
  },
  {
   "cell_type": "code",
   "execution_count": 62,
   "metadata": {},
   "outputs": [
    {
     "name": "stdout",
     "output_type": "stream",
     "text": [
      "1.234560\n",
      "apple / 7.77\n",
      "apple       7.770\n",
      "     apple  7.770\n",
      "  apple     7.770\n",
      "apple=====  7.770\n",
      "apple*****  7.770\n"
     ]
    }
   ],
   "source": [
    "# format() 함수\n",
    "print(format(1.23456,\"7.6f\"))  # 전체 7 자리 , 소숫점 6자리\n",
    "\n",
    "# 추천방법\n",
    "print('{0} / {1}'.format('apple',7.77))\n",
    "\n",
    "print('{0:<10}{1:7.3f}'.format('apple',7.77))   # 10 자리 왼쪽으로 정렬\n",
    "print('{0:>10}{1:7.3f}'.format('apple',7.77))   # 10 자리 오른쪽으로 정렬\n",
    "print('{0:^10}{1:7.3f}'.format('apple',7.77))   # 10 자리 가운데로 정렬\n",
    "\n",
    "print('{0:=<10}{1:7.3f}'.format('apple',7.77))  # 빈칸을 '='기호로 채움\n",
    "print('{0:*<10}{1:7.3f}'.format('apple',7.77))  # 빈칸을 '*'기호로 채움\n"
   ]
  },
  {
   "cell_type": "markdown",
   "metadata": {},
   "source": [
    "### eval() 함수 : "
   ]
  },
  {
   "cell_type": "code",
   "execution_count": null,
   "metadata": {},
   "outputs": [],
   "source": []
  }
 ],
 "metadata": {
  "kernelspec": {
   "display_name": "Python 3",
   "language": "python",
   "name": "python3"
  },
  "language_info": {
   "codemirror_mode": {
    "name": "ipython",
    "version": 3
   },
   "file_extension": ".py",
   "mimetype": "text/x-python",
   "name": "python",
   "nbconvert_exporter": "python",
   "pygments_lexer": "ipython3",
   "version": "3.7.6"
  }
 },
 "nbformat": 4,
 "nbformat_minor": 4
}
