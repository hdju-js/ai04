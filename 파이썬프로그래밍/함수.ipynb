{
 "cells": [
  {
   "cell_type": "markdown",
   "metadata": {},
   "source": [
    "### 함수(function)"
   ]
  },
  {
   "cell_type": "code",
   "execution_count": 12,
   "metadata": {},
   "outputs": [],
   "source": [
    "# 함수\n",
    "'''\n",
    "def 함수명(매개변수,....):\n",
    "    <수행할 문장1>\n",
    "    <수행할 문장2>\n",
    "    ..\n",
    "    return 반환할값\n",
    "\n",
    "'''"
   ]
  },
  {
   "cell_type": "code",
   "execution_count": 20,
   "metadata": {},
   "outputs": [
    {
     "name": "stdout",
     "output_type": "stream",
     "text": [
      "<class 'function'>\n",
      "add called!\n",
      "30\n",
      "subtract called!\n",
      "-10\n",
      "multiply called!\n",
      "200\n",
      "divide called!\n",
      "0.5\n",
      "add called!\n",
      "add called!\n",
      "add called!\n"
     ]
    },
    {
     "data": {
      "text/plain": [
       "[1, 2, 3, 4, 5, 6]"
      ]
     },
     "execution_count": 20,
     "metadata": {},
     "output_type": "execute_result"
    }
   ],
   "source": [
    "def add(a,b):\n",
    "    c = a + b\n",
    "    print('add called!')\n",
    "    return c\n",
    "\n",
    "def subtract(a,b):\n",
    "    c = a - b\n",
    "    print('subtract called!')\n",
    "    return c\n",
    "\n",
    "def multiply(a,b):\n",
    "    c = a * b\n",
    "    print('multiply called!')\n",
    "    return c\n",
    "\n",
    "def divide(a,b):\n",
    "    c = a / b\n",
    "    print('divide called!')\n",
    "    return c\n",
    "\n",
    "\n",
    "print(type(add))\n",
    "\n",
    "result = add(10,20)    #  함수 호출\n",
    "print(result)\n",
    "\n",
    "result = subtract(10,20)\n",
    "print(result)\n",
    "\n",
    "result = multiply(10,20)\n",
    "print(result)\n",
    "\n",
    "result = divide(10,20)\n",
    "print(result)\n",
    "\n",
    "\n",
    "print(add(3,4))\n",
    "print(add('Good','Morning'))\n",
    "print(add([1,2,3],[4,5,6]))"
   ]
  },
  {
   "cell_type": "code",
   "execution_count": 10,
   "metadata": {},
   "outputs": [],
   "source": [
    "# f(x) = 10*x + 1\n",
    "# f(2) = 10*2 + 1\n",
    "# f(a,b) = a + b\n",
    "# f(10,20) = 10 + 20"
   ]
  },
  {
   "cell_type": "markdown",
   "metadata": {},
   "source": [
    "### 함수 구현 순서\n",
    "#### (1) def 를 사용하고 함수이름을 결정\n",
    "#### (2) 매개변수(인자)를 결정\n",
    "#### (3) 인자를 사용하여 처리하는 코드를 구현\n",
    "#### (4) return 을 사용하여 결과값을 반환\n",
    "#### (5) 인자를 설정하여 함수를 호출하여 결과를 확인"
   ]
  },
  {
   "cell_type": "code",
   "execution_count": 22,
   "metadata": {},
   "outputs": [
    {
     "name": "stdout",
     "output_type": "stream",
     "text": [
      "f_1 is called!!\n",
      "None\n"
     ]
    }
   ],
   "source": [
    "# 함수의 유형 4 가지\n",
    "\n",
    "# [1] 반환 값이 없고 인자가 없는 경우\n",
    "def f_1():\n",
    "    print('f_1 is called!!')\n",
    "\n",
    "ret = f_1()  # None을 반환  \n",
    "print(ret)         "
   ]
  },
  {
   "cell_type": "code",
   "execution_count": 23,
   "metadata": {},
   "outputs": [
    {
     "name": "stdout",
     "output_type": "stream",
     "text": [
      "f_2 is called!!\n",
      "13 30\n",
      "None\n"
     ]
    }
   ],
   "source": [
    "# [2] 반환 값이 없고 인자가 있는 경우\n",
    "def f_2(a,b):        #(2)\n",
    "    print('f_2 is called!!')\n",
    "    print(a + b, a * b)\n",
    "\n",
    "ret = f_2(10,3)     #  (1)\n",
    "print(ret)          #  (3)    \n",
    "    "
   ]
  },
  {
   "cell_type": "code",
   "execution_count": 31,
   "metadata": {},
   "outputs": [
    {
     "name": "stdout",
     "output_type": "stream",
     "text": [
      "f_3 is called!!\n",
      "('Bread', 'Butter', 100, [1, 2, 3])\n",
      "f_3 is called!!\n",
      "Bread Butter 100\n"
     ]
    }
   ],
   "source": [
    "# [3] 반환 값이 있고 인자가 없는 경우\n",
    "def f_3():\n",
    "    print('f_3 is called!!')\n",
    "    return 'Bread',\"Butter\",100,[1,2,3]\n",
    "\n",
    "ret = f_3()\n",
    "print(ret)\n",
    "\n",
    "a,b,c,_ = f_3()\n",
    "print(a,b,c)"
   ]
  },
  {
   "cell_type": "code",
   "execution_count": 28,
   "metadata": {},
   "outputs": [
    {
     "name": "stdout",
     "output_type": "stream",
     "text": [
      "f_4 is called!!\n",
      "(8, -2, 15, 0.6)\n"
     ]
    }
   ],
   "source": [
    "# [4] 반환 값이 있고 인자가 있는 경우\n",
    "def f_4(a,b):\n",
    "    print('f_4 is called!!')\n",
    "    return a+b,a-b,a*b,a/b\n",
    "\n",
    "print(f_4(3,5))"
   ]
  },
  {
   "cell_type": "code",
   "execution_count": 40,
   "metadata": {},
   "outputs": [
    {
     "name": "stdout",
     "output_type": "stream",
     "text": [
      "(5, 3)\n",
      "(5, 3)\n"
     ]
    }
   ],
   "source": [
    "# 문제 1: 두개의 정수 인자로 주면  큰수, 작은 수의 순서로 반환하는 함수 order()를 구현\n",
    "# 3 , 5 ===> 5 , 3\n",
    "# 5 , 3 ===> 5 , 3\n",
    "def order(a,b):\n",
    "    if a < b:\n",
    "        a,b = b,a\n",
    "    return a,b\n",
    "\n",
    "print(order(5,3))     # (5,3)\n",
    "print(order(3,5))     # (5,3)"
   ]
  },
  {
   "cell_type": "code",
   "execution_count": 42,
   "metadata": {},
   "outputs": [
    {
     "name": "stdout",
     "output_type": "stream",
     "text": [
      "30\n",
      "30\n",
      "10\n",
      "10\n"
     ]
    }
   ],
   "source": [
    "# 문제 2: 두개의 정수 인자로 주면 를 큰수를 반환하는 함수  max( )를 구현\n",
    "def max(a,b):\n",
    "    if a > b:\n",
    "        return a\n",
    "    return b\n",
    "print(max(10,30))\n",
    "print(max(30,10))\n",
    "\n",
    "# def min(a,b):\n",
    "#     if a < b:\n",
    "#         return a\n",
    "#     return b\n",
    "# print(min(10,30))\n",
    "# print(min(30,10))"
   ]
  },
  {
   "cell_type": "code",
   "execution_count": 56,
   "metadata": {},
   "outputs": [
    {
     "name": "stdout",
     "output_type": "stream",
     "text": [
      "5.5\n",
      "54.5\n"
     ]
    }
   ],
   "source": [
    "# 문제 3: 정수를 여러개 갖는 리스트를  인자로 주면 리스트의 평균을 반환하는 함수 mean( )을 구현, 내장 sum(),len()함수 사용가능\n",
    "def mean(l):\n",
    "    return sum(l)/len(l)\n",
    "print(mean([1,2,3,4,5,6,7,8,9,10]))\n",
    "print(mean(list(range(1,101))))"
   ]
  },
  {
   "cell_type": "code",
   "execution_count": 48,
   "metadata": {},
   "outputs": [],
   "source": [
    "# globals()  # 파이썬 전역 심볼 테이블을 얻는 함수"
   ]
  },
  {
   "cell_type": "code",
   "execution_count": 57,
   "metadata": {},
   "outputs": [
    {
     "name": "stdout",
     "output_type": "stream",
     "text": [
      "10 20\n",
      "(30, 40, 50, 60, 70, 80, 90, 100) <class 'tuple'>\n",
      "550\n",
      "10 20\n",
      "() <class 'tuple'>\n",
      "30\n",
      "10 20\n",
      "(30,) <class 'tuple'>\n",
      "60\n"
     ]
    }
   ],
   "source": [
    "# 인자가 고정되지 않은 함수 처리  방법\n",
    "\n",
    "# (1) *인자 : tuple 방식\n",
    "def add_many(a,b,*args):\n",
    "    total = a + b\n",
    "    print(a,b)\n",
    "    print(args, type(args))\n",
    "    \n",
    "    for k in args:\n",
    "        total = total + k\n",
    "    return total\n",
    "\n",
    "print(add_many(10,20,30,40,50,60,70,80,90,100))\n",
    "print(add_many(10,20))\n",
    "print(add_many(10,20,30))"
   ]
  },
  {
   "cell_type": "code",
   "execution_count": 55,
   "metadata": {},
   "outputs": [
    {
     "name": "stdout",
     "output_type": "stream",
     "text": [
      "10 20\n",
      "{'depth': 5, 'dimension': 7} <class 'dict'>\n",
      "None\n"
     ]
    }
   ],
   "source": [
    "# (2)  **인자 : dict 형식, 키워드 인수\n",
    "def func(width,height,**kw):\n",
    "    print(width,height)\n",
    "    print(kw, type(kw))    \n",
    "    \n",
    "print(func(width=10,height=20, depth=5, dimension=7)) "
   ]
  },
  {
   "cell_type": "code",
   "execution_count": 65,
   "metadata": {},
   "outputs": [
    {
     "name": "stdout",
     "output_type": "stream",
     "text": [
      "foo: 20\n",
      "bar: 30 20 11\n",
      "Global: 10\n"
     ]
    }
   ],
   "source": [
    "# 함수 사용시 변수의 유효 범위 규칙(Scope Rule)\n",
    "# LEGB 규칙 : Local > Enclosing Function Local > Global > Built-in\n",
    "\n",
    "x = 10                         # G : 전역변수(Global Varaible)\n",
    "y = 11                         # G : 전역변수(Global Varaible)\n",
    "\n",
    "def foo():\n",
    "    x = 20                     # L : 지역변수(Local Variable) \n",
    "    foo_list = [1,2]           # L : 지역변수(Local Variable) \n",
    "    print('foo:',x)\n",
    "    \n",
    "    def bar():\n",
    "        a = 30                 # L : 지역변수(Local Variable) \n",
    "        print('bar:',a,x,y)    # a : L,  x : E,   y : G\n",
    "\n",
    "    bar()\n",
    "        \n",
    "foo()  \n",
    "print('Global:',x)"
   ]
  },
  {
   "cell_type": "markdown",
   "metadata": {},
   "source": [
    "### 일급함수(First Class Function) : 변수처럼 사용가능하다\n",
    "#### (1) 함수객체를 다른 함수의 인수로 전달할 수 있다\n",
    "#### (2) 함수객체를 반환 값으로 전달할 수 있다\n",
    "#### (3) 함수객체를 다른 자료구조에 저장해서 사용 가능"
   ]
  },
  {
   "cell_type": "code",
   "execution_count": 73,
   "metadata": {},
   "outputs": [
    {
     "name": "stdout",
     "output_type": "stream",
     "text": [
      "func_two is called!!\n",
      "add_two is called!!\n",
      "30\n"
     ]
    }
   ],
   "source": [
    "# (1) 함수객체를 다른 함수의 인수로 전달할 수 있다\n",
    "def add_two(a,b):                # (4)\n",
    "    print('add_two is called!!')\n",
    "    return a + b\n",
    "\n",
    "def func_two(func,a,b):          # (2)\n",
    "    print('func_two is called!!')\n",
    "    result = func(a,b)           # (3)\n",
    "    return result                # (5) \n",
    "    \n",
    "result = func_two(add_two,10,20) # (1)  \n",
    "print(result)                    # (6)"
   ]
  },
  {
   "cell_type": "code",
   "execution_count": 79,
   "metadata": {},
   "outputs": [
    {
     "name": "stdout",
     "output_type": "stream",
     "text": [
      "foo2 is called!!\n",
      "<class 'function'>\n",
      "bar2 is called!!\n"
     ]
    }
   ],
   "source": [
    "# (2) 함수객체를 반환 값으로 전달할 수 있다\n",
    "def foo2():                         # (2)\n",
    "    print('foo2 is called!!')\n",
    "    def bar2():                     # (5) \n",
    "        print('bar2 is called!!')\n",
    "    return bar2                     # (3)\n",
    "\n",
    "ret = foo2()     # ret ==> bar2     # (1)\n",
    "print(type(ret)) # <class 'function'>\n",
    "ret()            # bar2 is called!! # (4)"
   ]
  },
  {
   "cell_type": "code",
   "execution_count": 86,
   "metadata": {},
   "outputs": [
    {
     "name": "stdout",
     "output_type": "stream",
     "text": [
      "add called!\n",
      "60\n",
      "subtract called!\n",
      "-40\n"
     ]
    }
   ],
   "source": [
    "# (3) 함수객체를 다른 자료구조에 저장해서 사용 가능\n",
    "def add(a,b):                             # (3)\n",
    "    c = a + b\n",
    "    print('add called!')\n",
    "    return c\n",
    "\n",
    "def subtract(a,b):\n",
    "    c = a - b\n",
    "    print('subtract called!')\n",
    "    return c\n",
    "\n",
    "def multiply(a,b):\n",
    "    c = a * b\n",
    "    print('multiply called!')\n",
    "    return c\n",
    "\n",
    "def divide(a,b):\n",
    "    c = a / b\n",
    "    print('divide called!')\n",
    "    return c\n",
    "\n",
    "# list 사용\n",
    "func_list = [add,subtract,multiply,divide]   # (1)\n",
    "\n",
    "result = func_list[0](10,50)                 # (2) , add() 함수를 호출, 인자 10,50을 전달, 결과를 반환\n",
    "print(result)                                # (4)\n",
    "\n",
    "result = func_list[1](10,50)\n",
    "print(result)"
   ]
  },
  {
   "cell_type": "code",
   "execution_count": 87,
   "metadata": {},
   "outputs": [
    {
     "name": "stdout",
     "output_type": "stream",
     "text": [
      "add called!\n",
      "60\n",
      "subtract called!\n",
      "-20\n"
     ]
    }
   ],
   "source": [
    "# dict 사용\n",
    "func_dict = {'add함수':add ,'subtract함수':subtract, 'multiply함수':multiply,'divide함수':divide}  \n",
    "result = func_dict['add함수'](20,40)\n",
    "print(result)\n",
    "\n",
    "result = func_dict['subtract함수'](20,40)\n",
    "print(result)\n"
   ]
  },
  {
   "cell_type": "markdown",
   "metadata": {},
   "source": [
    "### 람다(lambda) 함수 --> 람다식\n",
    "#### : 한줄짜리 함수식, 식을 정의하는 순간 바로 함수 객체로 사용, 바로 인수로 전달할 수 있다, def 키워드를 사용하지 않는다\n",
    "####   함수명 = lambda 인수1,인수2,.... : 반환할 식"
   ]
  },
  {
   "cell_type": "code",
   "execution_count": 89,
   "metadata": {},
   "outputs": [
    {
     "name": "stdout",
     "output_type": "stream",
     "text": [
      "30\n"
     ]
    }
   ],
   "source": [
    "def add(a,b):\n",
    "    return a + b\n",
    "\n",
    "# add(10+20,20)\n",
    "# add(3,4)\n",
    "\n",
    "# 함수명 = lambda 인수1,인수2,.... : 반환할 식\n",
    "add_new = lambda a,b : a + b\n",
    "print(add_new(10,20))"
   ]
  },
  {
   "cell_type": "code",
   "execution_count": 110,
   "metadata": {},
   "outputs": [
    {
     "name": "stdout",
     "output_type": "stream",
     "text": [
      "[2, 5, 10, 17]\n",
      "lambda 사용: [2, 5, 10, 17]\n",
      "lambda 사용: [3, 13, 37, 81]\n"
     ]
    },
    {
     "data": {
      "text/plain": [
       "[2, 5, 10, 17]"
      ]
     },
     "execution_count": 110,
     "metadata": {},
     "output_type": "execute_result"
    }
   ],
   "source": [
    "def f1(x):\n",
    "    return x*x + 1\n",
    "\n",
    "def g(func):\n",
    "    return [func(x) for x in range(1,5)]\n",
    "\n",
    "print([f1(x) for x in range(1,5)])\n",
    "# print([f1(1),f1(2),f1(3),f1(4)])\n",
    "    \n",
    "\n",
    "print('lambda 사용:',g(lambda x:x*x + 1))\n",
    "print('lambda 사용:',g(lambda x:x**3 + x*x + 1))\n",
    "\n",
    "# def q(a,b):\n",
    "#     return[x*x + 1 for x in range(a,b)]\n",
    "# q(1,5)"
   ]
  },
  {
   "cell_type": "markdown",
   "metadata": {},
   "source": [
    "### 파이썬 내장(Built-in) 함수 \n",
    "#### : map()/max()/min()/sum()/round()/id()/hex()/zip() 등 다양한 내장 함수 존재"
   ]
  },
  {
   "cell_type": "code",
   "execution_count": 120,
   "metadata": {},
   "outputs": [
    {
     "name": "stdout",
     "output_type": "stream",
     "text": [
      "[2, 4, 6, 8, 10, 12]\n",
      "1\n",
      "a\n",
      "97\n",
      "4.123\n"
     ]
    }
   ],
   "source": [
    "# map() 함수\n",
    "def multi_two(x):\n",
    "    return x*2\n",
    "\n",
    "ret = map(multi_two,[1,2,3,4,5,6])\n",
    "print(list(ret))\n",
    "\n",
    "print(abs(-1))\n",
    "\n",
    "print(chr(97))\n",
    "print(ord('a'))\n",
    "\n",
    "print(round(4.12345, 3))"
   ]
  },
  {
   "cell_type": "code",
   "execution_count": 121,
   "metadata": {},
   "outputs": [
    {
     "name": "stdout",
     "output_type": "stream",
     "text": [
      "[2, 4, 6, 8, 10, 12]\n"
     ]
    }
   ],
   "source": [
    "# 문제 : 아래 코드를 람다함수를 사용하여 구현해 보세요\n",
    "# def multi_two(x):\n",
    "#     return x*2\n",
    "\n",
    "# ret = map(multi_two,[1,2,3,4,5,6])\n",
    "# print(list(ret))\n",
    "\n",
    "ret = map(lambda x:x*2 ,[1,2,3,4,5,6])\n",
    "print(list(ret))"
   ]
  },
  {
   "cell_type": "code",
   "execution_count": null,
   "metadata": {},
   "outputs": [],
   "source": []
  }
 ],
 "metadata": {
  "kernelspec": {
   "display_name": "Python 3",
   "language": "python",
   "name": "python3"
  },
  "language_info": {
   "codemirror_mode": {
    "name": "ipython",
    "version": 3
   },
   "file_extension": ".py",
   "mimetype": "text/x-python",
   "name": "python",
   "nbconvert_exporter": "python",
   "pygments_lexer": "ipython3",
   "version": "3.7.6"
  }
 },
 "nbformat": 4,
 "nbformat_minor": 4
}
