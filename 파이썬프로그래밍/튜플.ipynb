{
 "cells": [
  {
   "cell_type": "markdown",
   "metadata": {},
   "source": [
    "### 튜플(tuple) :  불변형(immutable), 시퀀스 형, ( ) : 소괄호 사용, 소괄호 생략 가능"
   ]
  },
  {
   "cell_type": "code",
   "execution_count": 1,
   "metadata": {},
   "outputs": [
    {
     "name": "stdout",
     "output_type": "stream",
     "text": [
      "(1, 2, 3, 4, 5, 6)\n"
     ]
    },
    {
     "data": {
      "text/plain": [
       "tuple"
      ]
     },
     "execution_count": 1,
     "metadata": {},
     "output_type": "execute_result"
    }
   ],
   "source": [
    "a = (1,2,3,4,5,6)\n",
    "print(a)\n",
    "type(a)"
   ]
  },
  {
   "cell_type": "code",
   "execution_count": 4,
   "metadata": {},
   "outputs": [
    {
     "name": "stdout",
     "output_type": "stream",
     "text": [
      "1 2 6\n"
     ]
    }
   ],
   "source": [
    "# indexing\n",
    "print(a[0],a[1],a[-1])\n",
    "\n",
    "# a[0] = 10  # TypeError  , 요소 변경이 불가"
   ]
  },
  {
   "cell_type": "code",
   "execution_count": 8,
   "metadata": {},
   "outputs": [
    {
     "data": {
      "text/plain": [
       "(1, 200, 3, 4, 5, 6)"
      ]
     },
     "execution_count": 8,
     "metadata": {},
     "output_type": "execute_result"
    }
   ],
   "source": [
    "b = list(a)\n",
    "b[1] = 200\n",
    "b = tuple(b)\n",
    "b"
   ]
  },
  {
   "cell_type": "code",
   "execution_count": 11,
   "metadata": {},
   "outputs": [
    {
     "name": "stdout",
     "output_type": "stream",
     "text": [
      "(1, 2)\n",
      "(1, 3, 5)\n",
      "(6, 5, 4, 3, 2, 1)\n"
     ]
    }
   ],
   "source": [
    "# slicing\n",
    "print(a[0:2])\n",
    "print(a[::2])\n",
    "print(a[::-1])"
   ]
  },
  {
   "cell_type": "code",
   "execution_count": 25,
   "metadata": {},
   "outputs": [
    {
     "name": "stdout",
     "output_type": "stream",
     "text": [
      "1 2 hello\n"
     ]
    },
    {
     "data": {
      "text/plain": [
       "(int, int, str)"
      ]
     },
     "execution_count": 25,
     "metadata": {},
     "output_type": "execute_result"
    }
   ],
   "source": [
    "# 패킹(packing), 언패킹 튜플\n",
    "t = 1,2,'hello'   # 패킹\n",
    "type(t)\n",
    "x,y,z = t         # 언패킹\n",
    "print(x,y,z)\n",
    "type(x),type(y),type(z)"
   ]
  },
  {
   "cell_type": "code",
   "execution_count": 40,
   "metadata": {},
   "outputs": [
    {
     "name": "stdout",
     "output_type": "stream",
     "text": [
      "10 20 hi\n"
     ]
    }
   ],
   "source": [
    "a,b,c = 10,20,'hi'   # 언패킹\n",
    "print(a,b,c)"
   ]
  },
  {
   "cell_type": "code",
   "execution_count": 39,
   "metadata": {},
   "outputs": [
    {
     "name": "stdout",
     "output_type": "stream",
     "text": [
      "1\n",
      "[2, 3, 4, 5, 6, 7]\n",
      "[1, 2, 3, 4, 5, 6]\n",
      "7\n",
      "1 2 [3, 4, 5, 6, 7]\n",
      "1 [2, 3, 4, 5, 6] 7\n"
     ]
    }
   ],
   "source": [
    "# 확장된 언패킹\n",
    "t = (1,2,3,4,5,6,7)\n",
    "# a,b = t   # ValueError\n",
    "# a,b,_,_,_ = t\n",
    "\n",
    "a,*b = t   # 확장된 언패킹\n",
    "print(a)\n",
    "print(b)  # 리스트로 나머지를 모두 할당\n",
    "\n",
    "*a,b = t\n",
    "print(a)\n",
    "print(b)  # 리스트로 나머지를 모두 할당\n",
    "\n",
    "a,b,*c = t \n",
    "print(a,b,c)\n",
    "a,*b,c = t\n",
    "print(a,b,c)\n",
    "\n",
    "# a,*b,*c = t  # SyntaxError"
   ]
  },
  {
   "cell_type": "code",
   "execution_count": 49,
   "metadata": {},
   "outputs": [
    {
     "name": "stdout",
     "output_type": "stream",
     "text": [
      "<class 'int'>\n",
      "<class 'tuple'>\n",
      "10\n"
     ]
    },
    {
     "data": {
      "text/plain": [
       "tuple"
      ]
     },
     "execution_count": 49,
     "metadata": {},
     "output_type": "execute_result"
    }
   ],
   "source": [
    "t = ()  # 빈튜플\n",
    "l = []  # 빈리스트\n",
    "\n",
    "t = (10) \n",
    "print(type(t))    # int\n",
    "t = (10,)    \n",
    "print(type(t))    # tuple\n",
    "print(t[0])\n",
    "\n",
    "t = 10,\n",
    "type(t)"
   ]
  },
  {
   "cell_type": "code",
   "execution_count": 51,
   "metadata": {},
   "outputs": [
    {
     "data": {
      "text/plain": [
       "list"
      ]
     },
     "execution_count": 51,
     "metadata": {},
     "output_type": "execute_result"
    }
   ],
   "source": [
    "l = [10]\n",
    "type(l)"
   ]
  },
  {
   "cell_type": "code",
   "execution_count": 16,
   "metadata": {},
   "outputs": [
    {
     "name": "stdout",
     "output_type": "stream",
     "text": [
      "1 2\n",
      "1 2 3\n",
      "h i\n",
      "h ['i', 'o', 'o', 'o']\n"
     ]
    }
   ],
   "source": [
    "# 리스트와 스트링도 언패킹, 확장 언패킹\n",
    "a,b = [1,2]\n",
    "print(a,b)\n",
    "a = [1,2,3]\n",
    "b,c,d = a\n",
    "print(b,c,d)\n",
    "\n",
    "a,b = 'hi'\n",
    "print(a,b)\n",
    "\n",
    "a,*b = 'hiooo'  # 리스트로 나머지를 모두 할당\n",
    "print(a,b)    "
   ]
  },
  {
   "cell_type": "code",
   "execution_count": 20,
   "metadata": {},
   "outputs": [
    {
     "name": "stdout",
     "output_type": "stream",
     "text": [
      "2 1\n",
      "2 1\n"
     ]
    }
   ],
   "source": [
    "# 두 개의 값을 서로 변경하는 코드\n",
    "# x : 1, y : 2\n",
    "\n",
    "# (1) 전통 언어 방식\n",
    "x = 1\n",
    "y = 2\n",
    "temp = x\n",
    "x = y\n",
    "y = temp\n",
    "print(x,y)\n",
    "\n",
    "# (2) 파이썬 튜플 방식\n",
    "x,y = 1,2\n",
    "x,y = y,x\n",
    "print(x,y)"
   ]
  },
  {
   "cell_type": "code",
   "execution_count": 30,
   "metadata": {},
   "outputs": [
    {
     "name": "stdout",
     "output_type": "stream",
     "text": [
      "(1, 2, 3, 'apple', 'banana')\n",
      "(1, 2, 3, 'apple', 'banana')\n",
      "(1, 2, 3, 'apple', 'banana', 1, 2, 3, 'apple', 'banana', 1, 2, 3, 'apple', 'banana')\n",
      "15\n",
      "6\n"
     ]
    }
   ],
   "source": [
    "# 연산자\n",
    "t1 = (1,2,3)\n",
    "t2 = ('apple','banana')\n",
    "t3 = t1 + t2\n",
    "print(t3)\n",
    "\n",
    "t3 = t1.__add__(t2)\n",
    "print(t3)\n",
    "\n",
    "t4 = t3*3\n",
    "print(t4)\n",
    "\n",
    "print(len(t4))\n",
    "\n",
    "print(sum(t1))"
   ]
  },
  {
   "cell_type": "code",
   "execution_count": 31,
   "metadata": {},
   "outputs": [
    {
     "data": {
      "text/plain": [
       "3"
      ]
     },
     "execution_count": 31,
     "metadata": {},
     "output_type": "execute_result"
    }
   ],
   "source": [
    "t = (1,2,3,4,2,2,3)\n",
    "t.count(2)   # 요소의 횟수"
   ]
  },
  {
   "cell_type": "code",
   "execution_count": 34,
   "metadata": {},
   "outputs": [
    {
     "name": "stdout",
     "output_type": "stream",
     "text": [
      "1\n",
      "4\n"
     ]
    }
   ],
   "source": [
    "print(t.index(2))   # 요소 2 가 처음 나오는 위치(인덱스)를 반환\n",
    "print(t.index(2,3)) # 요소 2 를 인덱스 3 이상부터 나오는 위치(인덱스)를 반환"
   ]
  },
  {
   "cell_type": "code",
   "execution_count": 36,
   "metadata": {},
   "outputs": [],
   "source": [
    "del t[0]   # TypeError"
   ]
  },
  {
   "cell_type": "code",
   "execution_count": null,
   "metadata": {},
   "outputs": [],
   "source": []
  }
 ],
 "metadata": {
  "kernelspec": {
   "display_name": "Python 3",
   "language": "python",
   "name": "python3"
  },
  "language_info": {
   "codemirror_mode": {
    "name": "ipython",
    "version": 3
   },
   "file_extension": ".py",
   "mimetype": "text/x-python",
   "name": "python",
   "nbconvert_exporter": "python",
   "pygments_lexer": "ipython3",
   "version": "3.7.6"
  }
 },
 "nbformat": 4,
 "nbformat_minor": 4
}
