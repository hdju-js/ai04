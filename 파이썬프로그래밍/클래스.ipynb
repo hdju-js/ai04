{
 "cells": [
  {
   "cell_type": "markdown",
   "metadata": {},
   "source": [
    "### 클래스(class)"
   ]
  },
  {
   "cell_type": "code",
   "execution_count": 2,
   "metadata": {},
   "outputs": [],
   "source": [
    "파이썬 클래스 관련 용어\n",
    "\n",
    "(1) 클래스(class) : class 문으로 정의 하며, 멤버와 메서드를 가지는를 가지는 객체이다, 새로운 이름 공간을 갖는단위\n",
    "(2) 클래스 객체(class object) : 클래스와 같은 의미\n",
    "\n",
    "(3) 클래스 인스턴스 : 클래스를 호출하여 생성된 객체   \n",
    "(4) 클래스 인스턴스 객체: 클래스 인스턴스와 같은 의미\n",
    "\n",
    "(5) 멤버 : 클래스 혹은  클래스 인스턴스 공간에 정의된 변수   \n",
    "(6) 메서드 :  클래스 공간에 정의된 함수, def 사용\n",
    "\n",
    "(7) 속성(Attribute) : 멤버와 메서드 전체를 가리킨다   \n",
    "    \n",
    "(8) 상속 : 상위 클래스의 속성과 행동을 그대로 받아들이고 추가로 필요한 기능을 덧붙이는것"
   ]
  },
  {
   "cell_type": "code",
   "execution_count": 16,
   "metadata": {},
   "outputs": [
    {
     "name": "stdout",
     "output_type": "stream",
     "text": [
      "<class '__main__.Simple'>\n",
      "<__main__.Simple object at 0x000002898CEB9E48>\n",
      "<__main__.Simple object at 0x000002898CEB9F08>\n"
     ]
    }
   ],
   "source": [
    "# class 클래스이름 :\n",
    "#         속성 ....\n",
    "\n",
    "# 클래스의 생성\n",
    "class Simple:\n",
    "    pass\n",
    "\n",
    "print(Simple)\n",
    "\n",
    "\n",
    "# 인스턴스의 생성\n",
    "s1 = Simple() \n",
    "print(s1)\n",
    "\n",
    "s2 =Simple()\n",
    "print(s2)\n",
    "\n",
    "# 인스턴스의 삭제(소멸)\n",
    "del s1  \n"
   ]
  },
  {
   "cell_type": "code",
   "execution_count": 15,
   "metadata": {},
   "outputs": [
    {
     "name": "stdout",
     "output_type": "stream",
     "text": [
      "100\n",
      "[1, 2, 3, 4]\n",
      "Hi\n",
      "300\n",
      "300\n",
      "500\n",
      "300\n"
     ]
    }
   ],
   "source": [
    "# 멤버 접근 : 클래스 멤버와 인스턴스 멤버\n",
    "# (1) 클래스 멤버의 구현과 접근 방법\n",
    "class MyClass:\n",
    "    cl_mem = 100\n",
    "    cl_list = [1,2,3,4]\n",
    "    a = 'Hi'\n",
    "\n",
    "# 클래스 객체를 통해서 접근\n",
    "print(MyClass.cl_mem)\n",
    "print(MyClass.cl_list)\n",
    "print(MyClass.a)\n",
    "\n",
    "# 변경\n",
    "MyClass.cl_mem = 300\n",
    "print(MyClass.cl_mem)\n",
    "\n",
    "# 인스턴스 객체를 통해서 접근\n",
    "m1 = MyClass()\n",
    "print(m1.cl_mem)\n",
    "m1.cl_mem = 500\n",
    "print(m1.cl_mem)\n",
    "print(MyClass.cl_mem)"
   ]
  },
  {
   "cell_type": "code",
   "execution_count": 20,
   "metadata": {},
   "outputs": [
    {
     "name": "stdout",
     "output_type": "stream",
     "text": [
      "MyClass2 생성자가 호출됨\n",
      "MyClass2 소멸자가 호출됨\n",
      "0\n",
      "50\n",
      "set is called!!\n",
      "30\n",
      "30\n",
      "get is called!!\n",
      "30 [1, 2, 3] 100\n",
      "MyClass2 소멸자가 호출됨\n"
     ]
    }
   ],
   "source": [
    "# (2) 인스턴스 멤버의 구현과 접근\n",
    "# 클래스의 메서드 내에 구현한 멤버\n",
    "class MyClass2:\n",
    "    def __init__(self) : # 생성자 메서드, 인스턴스 객체를 생성할 때 자동으로 호출, 인스턴스 멤버 초기화\n",
    "        print('MyClass2 생성자가 호출됨')\n",
    "        self.in_mem = 0       \n",
    "        self.in_list = [0]\n",
    "        self.a = 0\n",
    "\n",
    "    def set(self,var):    # 메서드\n",
    "        print('set is called!!')\n",
    "        print(var)\n",
    "        self.in_mem = var\n",
    "        self.in_list = [1,2,3]\n",
    "        self.a = 100\n",
    "\n",
    "    def get(self):    # 메서드\n",
    "        print('get is called!!')\n",
    "        return self.in_mem,self.in_list,self.a\n",
    "    \n",
    "    def __del__(self):   # 소멸자, 파이썬에서는 구현이 불필요\n",
    "        print('MyClass2 소멸자가 호출됨')\n",
    "\n",
    "# shift + Tab\n",
    "m2 = MyClass2()    # 인스턴스 객체 생성\n",
    "print(m2.in_mem)   # 서울시.마포구.공덕동.포스트타워\n",
    "\n",
    "m2.in_mem = 50     # 인스턴스 멤버를 변경\n",
    "print(m2.in_mem)\n",
    "\n",
    "m2.set(30)         # 인스턴스의 메서드 호출\n",
    "print(m2.in_mem)\n",
    "\n",
    "mem,l,a = m2.get() #  인스턴스의 메서드 호출\n",
    "print(mem,l,a)\n",
    " \n",
    "# del m2             #  인스턴스 객체 삭제  , 파이썬에서는 모든 객체는 인터프리터 프로세스 종료시 자동으로 삭제, 구현 불필요\n",
    "# m2.__del__()       #  호출만 가능"
   ]
  },
  {
   "cell_type": "code",
   "execution_count": null,
   "metadata": {},
   "outputs": [],
   "source": []
  },
  {
   "cell_type": "code",
   "execution_count": null,
   "metadata": {},
   "outputs": [],
   "source": []
  }
 ],
 "metadata": {
  "kernelspec": {
   "display_name": "Python 3",
   "language": "python",
   "name": "python3"
  },
  "language_info": {
   "codemirror_mode": {
    "name": "ipython",
    "version": 3
   },
   "file_extension": ".py",
   "mimetype": "text/x-python",
   "name": "python",
   "nbconvert_exporter": "python",
   "pygments_lexer": "ipython3",
   "version": "3.7.6"
  }
 },
 "nbformat": 4,
 "nbformat_minor": 4
}
