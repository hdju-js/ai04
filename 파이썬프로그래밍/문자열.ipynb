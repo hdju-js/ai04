{
 "cells": [
  {
   "cell_type": "markdown",
   "metadata": {},
   "source": [
    "### 문자열(string) :  불변형(immutable) , 시퀀스 형"
   ]
  },
  {
   "cell_type": "code",
   "execution_count": 11,
   "metadata": {},
   "outputs": [
    {
     "name": "stdout",
     "output_type": "stream",
     "text": [
      "Hello Python\n",
      "<class 'str'>\n",
      "\n",
      "Desc : This is a test code!!\n",
      "Date : 2020-04-13\n",
      "(c) copyright\n",
      "\n",
      "this is a 'double' quotation\n"
     ]
    }
   ],
   "source": [
    "str = \"Hello Python\"\n",
    "\n",
    "print(str)\n",
    "print(type(str))\n",
    "\n",
    "str2 = 'Good Bye'\n",
    "\n",
    "str3 = \\\n",
    "'''\n",
    "Desc : This is a test code!!\n",
    "Date : 2020-04-13\n",
    "(c) copyright\n",
    "'''\n",
    "\n",
    "print(str3)\n",
    "\n",
    "'''\n",
    "Desc : This is a test code!!\n",
    "Date : 2020-04-13\n",
    "(c) copyright\n",
    "'''\n",
    "str4 = \"this is a 'double' quotation\"\n",
    "print(str4)"
   ]
  },
  {
   "cell_type": "markdown",
   "metadata": {},
   "source": [
    "### 문자열과 indexing 과 slicing"
   ]
  },
  {
   "cell_type": "code",
   "execution_count": 36,
   "metadata": {},
   "outputs": [
    {
     "name": "stdout",
     "output_type": "stream",
     "text": [
      "Life is too shot, you need python\n",
      "L i f e t i L\n",
      "n o h\n"
     ]
    }
   ],
   "source": [
    "# indexing  : 문자열의 요소를 접근하는 방법  ,  a[index]\n",
    "a = 'Life is too shot, you need python'\n",
    "print(a)\n",
    "\n",
    "print(a[0],a[1],a[2],a[3],a[8], a[True], a[False])   # True ==> 1 , False ==> 0\n",
    "\n",
    "print(a[-1],a[-2], a[-3])   # 뒤에서 부터 indexing\n",
    "\n",
    "# print(a[len(a) - 1])   # ==> a[-1]\n",
    "\n",
    "# a[0] = 'W'  # TypeError  , 불변형은 요소 수정이 불가"
   ]
  },
  {
   "cell_type": "code",
   "execution_count": 50,
   "metadata": {},
   "outputs": [
    {
     "name": "stdout",
     "output_type": "stream",
     "text": [
      "Lif\n",
      "is too\n",
      "Life is too shot, you need python\n",
      "too shot, you need python\n",
      "Life is too shot, you need pytho\n",
      "pytho\n",
      "Lesosty ep\n",
      "Lf stoso,yune yhn\n",
      "nohtyp deen uoy ,tohs oot si efiL\n"
     ]
    }
   ],
   "source": [
    "# slicing :    a[start:end + 1:step]\n",
    "a = 'Life is too shot, you need python'\n",
    "print(a[0:3])  # from 0 to ( 3 - 1)\n",
    "print(a[5:11]) # from 5 to ( 11 - 1)\n",
    "\n",
    "print(a[:])    # 처음 부터 끝까지  , a[0:33]\n",
    "print(a[8:])   # 8부터 끝까지\n",
    "\n",
    "print(a[:-1])  # 마지막 문자만 제외\n",
    "print(a[-6:-1])\n",
    "\n",
    "print(a[0:30:3])  #  처음 부터 29번째 까지 3개의 간격으로 slicing\n",
    "print(a[::2])     #  처음 부터 끝까지 2개의 간격으로 slicing \n",
    "\n",
    "print(a[::-1])    #  문자열을 순서를 거꾸로 바꾼다\n",
    "\n",
    "# a[0:10] = 'Nife is to' # # TypeError  , 불변형은 요소 수정이 불가"
   ]
  },
  {
   "cell_type": "code",
   "execution_count": 59,
   "metadata": {},
   "outputs": [
    {
     "name": "stdout",
     "output_type": "stream",
     "text": [
      "hellobye\n",
      "hellohellohello\n",
      "--------------------------------------------------\n"
     ]
    }
   ],
   "source": [
    "# 문자열 연산\n",
    "\n",
    "str1 = 'hello'\n",
    "str2 = 'bye'\n",
    "\n",
    "str3 = str1 + str2\n",
    "print(str3)\n",
    "\n",
    "# str3 = str1  - str2\n",
    "# str3 = str1  * str2\n",
    "\n",
    "str3 = str1  * 3\n",
    "print(str3)\n",
    "\n",
    "print('-'*50)\n"
   ]
  },
  {
   "cell_type": "code",
   "execution_count": null,
   "metadata": {},
   "outputs": [],
   "source": []
  },
  {
   "cell_type": "code",
   "execution_count": null,
   "metadata": {},
   "outputs": [],
   "source": []
  }
 ],
 "metadata": {
  "kernelspec": {
   "display_name": "Python 3",
   "language": "python",
   "name": "python3"
  },
  "language_info": {
   "codemirror_mode": {
    "name": "ipython",
    "version": 3
   },
   "file_extension": ".py",
   "mimetype": "text/x-python",
   "name": "python",
   "nbconvert_exporter": "python",
   "pygments_lexer": "ipython3",
   "version": "3.7.6"
  }
 },
 "nbformat": 4,
 "nbformat_minor": 4
}
