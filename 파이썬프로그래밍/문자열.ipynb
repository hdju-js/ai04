{
 "cells": [
  {
   "cell_type": "markdown",
   "metadata": {},
   "source": [
    "### 문자열(string) :  불변형(immutable) , 시퀀스 형"
   ]
  },
  {
   "cell_type": "code",
   "execution_count": 11,
   "metadata": {},
   "outputs": [
    {
     "name": "stdout",
     "output_type": "stream",
     "text": [
      "Hello Python\n",
      "<class 'str'>\n",
      "\n",
      "Desc : This is a test code!!\n",
      "Date : 2020-04-13\n",
      "(c) copyright\n",
      "\n",
      "this is a 'double' quotation\n"
     ]
    }
   ],
   "source": [
    "str = \"Hello Python\"\n",
    "\n",
    "print(str)\n",
    "print(type(str))\n",
    "\n",
    "str2 = 'Good Bye'\n",
    "\n",
    "str3 = \\\n",
    "'''\n",
    "Desc : This is a test code!!\n",
    "Date : 2020-04-13\n",
    "(c) copyright\n",
    "'''\n",
    "\n",
    "print(str3)\n",
    "\n",
    "'''\n",
    "Desc : This is a test code!!\n",
    "Date : 2020-04-13\n",
    "(c) copyright\n",
    "'''\n",
    "str4 = \"this is a 'double' quotation\"\n",
    "print(str4)"
   ]
  },
  {
   "cell_type": "markdown",
   "metadata": {},
   "source": [
    "### 문자열과 indexing 과 slicing"
   ]
  },
  {
   "cell_type": "code",
   "execution_count": 36,
   "metadata": {},
   "outputs": [
    {
     "name": "stdout",
     "output_type": "stream",
     "text": [
      "Life is too shot, you need python\n",
      "L i f e t i L\n",
      "n o h\n"
     ]
    }
   ],
   "source": [
    "# indexing  : 문자열의 요소를 접근하는 방법  ,  a[index]\n",
    "a = 'Life is too shot, you need python'\n",
    "print(a)\n",
    "\n",
    "print(a[0],a[1],a[2],a[3],a[8], a[True], a[False])   # True ==> 1 , False ==> 0\n",
    "\n",
    "print(a[-1],a[-2], a[-3])   # 뒤에서 부터 indexing\n",
    "\n",
    "# print(a[len(a) - 1])   # ==> a[-1]\n",
    "\n",
    "# a[0] = 'W'  # TypeError  , 불변형은 요소 수정이 불가"
   ]
  },
  {
   "cell_type": "code",
   "execution_count": 50,
   "metadata": {},
   "outputs": [
    {
     "name": "stdout",
     "output_type": "stream",
     "text": [
      "Lif\n",
      "is too\n",
      "Life is too shot, you need python\n",
      "too shot, you need python\n",
      "Life is too shot, you need pytho\n",
      "pytho\n",
      "Lesosty ep\n",
      "Lf stoso,yune yhn\n",
      "nohtyp deen uoy ,tohs oot si efiL\n"
     ]
    }
   ],
   "source": [
    "# slicing :    a[start:end + 1:step]   ,  start <= data < end\n",
    "a = 'Life is too shot, you need python'\n",
    "print(a[0:3])  # from 0 to ( 3 - 1)\n",
    "print(a[5:11]) # from 5 to ( 11 - 1)\n",
    "\n",
    "print(a[:])    # 처음 부터 끝까지  , a[0:33]\n",
    "print(a[8:])   # 8부터 끝까지\n",
    "\n",
    "print(a[:-1])  # 마지막 문자만 제외\n",
    "print(a[-6:-1])\n",
    "\n",
    "print(a[0:30:3])  #  처음 부터 29번째 까지 3개의 간격으로 slicing\n",
    "print(a[::2])     #  처음 부터 끝까지 2개의 간격으로 slicing \n",
    "\n",
    "print(a[::-1])    #  문자열을 순서를 거꾸로 바꾼다\n",
    "\n",
    "# a[0:10] = 'Nife is to' # # TypeError  , 불변형은 요소 수정이 불가"
   ]
  },
  {
   "cell_type": "code",
   "execution_count": 59,
   "metadata": {},
   "outputs": [
    {
     "name": "stdout",
     "output_type": "stream",
     "text": [
      "hellobye\n",
      "hellohellohello\n",
      "--------------------------------------------------\n"
     ]
    }
   ],
   "source": [
    "# 문자열 연산\n",
    "\n",
    "str1 = 'hello'\n",
    "str2 = 'bye'\n",
    "\n",
    "str3 = str1 + str2\n",
    "print(str3)\n",
    "\n",
    "# str3 = str1  - str2\n",
    "# str3 = str1  * str2\n",
    "\n",
    "str3 = str1  * 3\n",
    "print(str3)\n",
    "\n",
    "print('-'*50)\n"
   ]
  },
  {
   "cell_type": "code",
   "execution_count": 8,
   "metadata": {},
   "outputs": [
    {
     "name": "stdout",
     "output_type": "stream",
     "text": [
      "<class 'str'>\n",
      "I LIKE PROGRAMMING, I LIKE SWIMMING\n",
      "i like programming, i like swimming\n",
      "i like programming, i like swimming\n",
      "I Like Programming, I Like Swimming\n"
     ]
    }
   ],
   "source": [
    "# 연산자\n",
    "a = 'i like programming, i like swimming'\n",
    "print(type(a))\n",
    "\n",
    "b = a.upper()    # 대문자로 변환\n",
    "print(b)\n",
    "print(a)\n",
    "\n",
    "c = b.lower()    # 소문자로 변환\n",
    "print(c)\n",
    "\n",
    "d = c.title()    # 단어의 첫글자만 대문자로 변환\n",
    "print(d)"
   ]
  },
  {
   "cell_type": "code",
   "execution_count": 25,
   "metadata": {},
   "outputs": [
    {
     "name": "stdout",
     "output_type": "stream",
     "text": [
      "2\n",
      "27\n",
      "-1\n",
      "22\n",
      "22\n"
     ]
    }
   ],
   "source": [
    "num = a.count('like')    # 문자의 사용 횟수\n",
    "print(num)\n",
    "\n",
    "num = a.find('swim')    # 문자 위치의 인덱스 값을 반환\n",
    "print(num)              # 27\n",
    "\n",
    "num = a.find('hello')   # 없으면 -1을 반환\n",
    "print(num)\n",
    "\n",
    "num = a.find('like', 3) # 검색위치를 3으로 지정, 문자 위치의 인덱스 값을 반환\n",
    "print(num)              # 22\n",
    "\n",
    "num = a.rfind('like')    # 역순 검색 문자 위치의 인덱스 값을 반환\n",
    "print(num)              # 27"
   ]
  },
  {
   "cell_type": "code",
   "execution_count": 35,
   "metadata": {},
   "outputs": [
    {
     "name": "stdout",
     "output_type": "stream",
     "text": [
      "2\n",
      "True\n"
     ]
    }
   ],
   "source": [
    "num = a.index('like')   # 문자 위치의 인덱스 값을 반환\n",
    "print(num)\n",
    "\n",
    "# num = a.index('hello')   # ValueError , 문자가 없으면 오류\n",
    "\n",
    "b = a.startswith('i like')  # 'i like' 로 시작하는 문자열인가, True/False\n",
    "print(b)"
   ]
  },
  {
   "cell_type": "code",
   "execution_count": 39,
   "metadata": {},
   "outputs": [
    {
     "name": "stdout",
     "output_type": "stream",
     "text": [
      " spam and ham \n",
      "spam and ham\n",
      "spam and ham \n",
      " spam and ham\n"
     ]
    }
   ],
   "source": [
    "a = ' spam and ham '\n",
    "print(a)\n",
    "\n",
    "s = a.strip()    # 좌우 공백 제거\n",
    "print(s)\n",
    "\n",
    "s = a.lstrip()    # 좌측 공백 제거\n",
    "print(s)\n",
    "\n",
    "\n",
    "s = a.rstrip()    # 우측 공백 제거\n",
    "print(s)"
   ]
  },
  {
   "cell_type": "code",
   "execution_count": 45,
   "metadata": {},
   "outputs": [
    {
     "name": "stdout",
     "output_type": "stream",
     "text": [
      "['spam', 'and', 'ham']\n",
      "[' spam ', ' ham ']\n"
     ]
    },
    {
     "data": {
      "text/plain": [
       "['spam', 'and', 'ham']"
      ]
     },
     "execution_count": 45,
     "metadata": {},
     "output_type": "execute_result"
    }
   ],
   "source": [
    "s1 = a.split()     # 공백으로 분리하고 리스트로 반환\n",
    "print(s1)\n",
    "\n",
    "s2 = a.split('and')     # 'and'로 분리하고 리스트로 반환\n",
    "print(s2)\n"
   ]
  },
  {
   "cell_type": "code",
   "execution_count": 55,
   "metadata": {},
   "outputs": [
    {
     "name": "stdout",
     "output_type": "stream",
     "text": [
      "a:b:c:d:e\n",
      "spam#and#ham\n"
     ]
    },
    {
     "data": {
      "text/plain": [
       "'Your leg is too short'"
      ]
     },
     "execution_count": 55,
     "metadata": {},
     "output_type": "execute_result"
    }
   ],
   "source": [
    "s2 = ':'.join('abcde')   # 문자를 삽입해서 결합\n",
    "print(s2)\n",
    "\n",
    "s3 = '#'.join(s1)   # 문자를 삽입해서 결합\n",
    "print(s3)\n",
    "\n",
    "a = 'Life is too short'\n",
    "b = a.replace('Life','Your leg')\n",
    "b"
   ]
  },
  {
   "cell_type": "code",
   "execution_count": 68,
   "metadata": {},
   "outputs": [
    {
     "name": "stdout",
     "output_type": "stream",
     "text": [
      "ㄱㄴㄷㄹㅁㅂㅅㅇㅈㅊㅋㅌㅍㅎㅏㅔㅣㅗㅜ\n",
      "gndrmbs_jcktphaeiou\n",
      "{12593: 103, 12596: 110, 12599: 100, 12601: 114, 12609: 109, 12610: 98, 12613: 115, 12615: 95, 12616: 106, 12618: 99, 12619: 107, 12620: 116, 12621: 112, 12622: 104, 12623: 97, 12628: 101, 12643: 105, 12631: 111, 12636: 117}\n",
      "<class 'dict'>\n",
      "miri_oja\n",
      "ganibabo\n"
     ]
    }
   ],
   "source": [
    "# maketrans()/translate() 함수\n",
    "# 문자열을 mapping하여 변환된 결과를 얻을 수 있다\n",
    "\n",
    "a = 'ㄱㄴㄷㄹㅁㅂㅅㅇㅈㅊㅋㅌㅍㅎ'   # 자음\n",
    "b = 'ㅏㅔㅣㅗㅜ'                   # 모음\n",
    "c = 'gndrmbs_jcktph'\n",
    "d = 'aeiou'\n",
    "\n",
    "kor = a + b\n",
    "print(kor)\n",
    "\n",
    "eng = c + d\n",
    "print(eng)\n",
    "\n",
    "transtable = ''.maketrans(kor,eng)\n",
    "print(transtable)\n",
    "print(type(transtable))\n",
    "\n",
    "result = 'ㅁㅣㄹㅣㅇㅗㅈㅏ'.translate(transtable)\n",
    "print(result)\n",
    "result = 'ㄱㅏㄴㅣㅂㅏㅂㅗ'.translate(transtable)\n",
    "print(result)"
   ]
  },
  {
   "cell_type": "code",
   "execution_count": null,
   "metadata": {},
   "outputs": [],
   "source": []
  }
 ],
 "metadata": {
  "kernelspec": {
   "display_name": "Python 3",
   "language": "python",
   "name": "python3"
  },
  "language_info": {
   "codemirror_mode": {
    "name": "ipython",
    "version": 3
   },
   "file_extension": ".py",
   "mimetype": "text/x-python",
   "name": "python",
   "nbconvert_exporter": "python",
   "pygments_lexer": "ipython3",
   "version": "3.7.6"
  }
 },
 "nbformat": 4,
 "nbformat_minor": 4
}
