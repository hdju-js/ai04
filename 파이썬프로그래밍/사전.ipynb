{
 "cells": [
  {
   "cell_type": "markdown",
   "metadata": {},
   "source": [
    "### 사전(dict) : 가변형(mutable), 순서가 없다, 연관형,매핑형\n",
    "#### { key:value,.......}   , 중괄호 사용\n",
    "#### key 는 반드시 immutable 형 이어야 한다\n",
    "#### value 는 mutable,  immutable 모두 사용 가능하다"
   ]
  },
  {
   "cell_type": "code",
   "execution_count": 29,
   "metadata": {},
   "outputs": [
    {
     "name": "stdout",
     "output_type": "stream",
     "text": [
      "<class 'dict'>\n",
      "{'name': '홍길동', 'age': 30, 'phone': '010-1234-1234', 'birth': '20200416', 10: 100}\n"
     ]
    }
   ],
   "source": [
    "a = {'name':'홍길동', 'age':30, 'phone':'010-1234-1234', 'birth':'20200416',10:100}\n",
    "print(type(a))\n",
    "print(a)"
   ]
  },
  {
   "cell_type": "code",
   "execution_count": 30,
   "metadata": {},
   "outputs": [
    {
     "name": "stdout",
     "output_type": "stream",
     "text": [
      "홍길동 30 20200416 100\n"
     ]
    }
   ],
   "source": [
    "# 요소 접근 : a[key]\n",
    "print(a['name'],a['age'],a['birth'],a[10])"
   ]
  },
  {
   "cell_type": "code",
   "execution_count": 31,
   "metadata": {},
   "outputs": [
    {
     "name": "stdout",
     "output_type": "stream",
     "text": [
      "{'name': '김철수', 'age': 20, 'phone': '010-1234-1234', 'birth': '20200416', 10: 500}\n"
     ]
    }
   ],
   "source": [
    "# 요소 수정\n",
    "a['name'] = '김철수'\n",
    "a['age'] = 20\n",
    "a[10] = 500\n",
    "print(a)"
   ]
  },
  {
   "cell_type": "code",
   "execution_count": 32,
   "metadata": {},
   "outputs": [
    {
     "name": "stdout",
     "output_type": "stream",
     "text": [
      "{'name': '김철수', 'age': 20, 'phone': '010-1234-1234', 'birth': '20200416', 10: 500, '주소': '서울시', '직업': '학생', (1, 2, 3): '튜플데이터'}\n"
     ]
    }
   ],
   "source": [
    "# 추가\n",
    "a['주소'] = '서울시'\n",
    "a['직업'] = '학생'\n",
    "a[(1,2,3)] = '튜플데이터'\n",
    "print(a)"
   ]
  },
  {
   "cell_type": "code",
   "execution_count": 33,
   "metadata": {},
   "outputs": [
    {
     "name": "stdout",
     "output_type": "stream",
     "text": [
      "{'name': '김철수', 'age': 20, 'phone': '010-1234-1234', 'birth': '20200416', 10: 500, '직업': '학생'}\n"
     ]
    }
   ],
   "source": [
    "# 제거\n",
    "del a['주소']\n",
    "del a[(1,2,3)]\n",
    "print(a)"
   ]
  },
  {
   "cell_type": "code",
   "execution_count": 39,
   "metadata": {},
   "outputs": [
    {
     "name": "stdout",
     "output_type": "stream",
     "text": [
      "dict_keys(['name', 'age', 'phone', 'birth', 10, '직업']) <class 'dict_keys'>\n",
      "dict_values(['김철수', 20, '010-1234-1234', '20200416', 500, '학생'])\n"
     ]
    }
   ],
   "source": [
    "# 연산자\n",
    "print(a.keys(),type(a.keys()) ) # key 값만 dict_keys 타입으로 반환\n",
    "print(a.values())               # value 값만 dict_values 타입으로 반환"
   ]
  },
  {
   "cell_type": "code",
   "execution_count": 40,
   "metadata": {},
   "outputs": [
    {
     "name": "stdout",
     "output_type": "stream",
     "text": [
      "dict_items([('name', '김철수'), ('age', 20), ('phone', '010-1234-1234'), ('birth', '20200416'), (10, 500), ('직업', '학생')]) <class 'dict_items'>\n"
     ]
    }
   ],
   "source": [
    "print(a.items(),type(a.items()))  # key와 valuer값을 튜플로 만들어 dict_items 타입으로 반환"
   ]
  },
  {
   "cell_type": "code",
   "execution_count": 52,
   "metadata": {},
   "outputs": [
    {
     "name": "stdout",
     "output_type": "stream",
     "text": [
      "김철수\n",
      "김철수\n",
      "None\n",
      "독서\n"
     ]
    },
    {
     "data": {
      "text/plain": [
       "{'name': '김철수',\n",
       " 'age': 20,\n",
       " 'phone': '010-1234-1234',\n",
       " 'birth': '20200416',\n",
       " 10: 500,\n",
       " '직업': '학생'}"
      ]
     },
     "execution_count": 52,
     "metadata": {},
     "output_type": "execute_result"
    }
   ],
   "source": [
    "print(a['name'])\n",
    "print(a.get('name'))   # 동일한 결과, key를 사용하여 value를 반환\n",
    "\n",
    "# a['hobby']  # KeyError\n",
    "print(a.get('hobby'))   # None\n",
    "\n",
    "print(a.get('hobby','독서'))   # 값이 없으면 '독서'를 반환"
   ]
  },
  {
   "cell_type": "code",
   "execution_count": 60,
   "metadata": {},
   "outputs": [
    {
     "name": "stdout",
     "output_type": "stream",
     "text": [
      "{'name': '김철수', 'age': 20, 'phone': '010-1234-1234', 'birth': '20200416', 10: 500, '직업': '학생', 'gender': '남성', 'ten': 10}\n"
     ]
    }
   ],
   "source": [
    "# 추가\n",
    "d = {'gender':'남성','ten':10}\n",
    "a.update(d)       # 새로운 dict의 요소를 추가\n",
    "print(a)"
   ]
  },
  {
   "cell_type": "code",
   "execution_count": 61,
   "metadata": {},
   "outputs": [
    {
     "name": "stdout",
     "output_type": "stream",
     "text": [
      "10\n",
      "{'name': '김철수', 'age': 20, 'phone': '010-1234-1234', 'birth': '20200416', 10: 500, '직업': '학생', 'gender': '남성'}\n"
     ]
    }
   ],
   "source": [
    "# 제거\n",
    "ret = a.pop('ten')   # 'ten' key의 value인 10을 반환하고 사전에서 요소 삭제\n",
    "print(ret)\n",
    "print(a)"
   ]
  },
  {
   "cell_type": "code",
   "execution_count": 62,
   "metadata": {},
   "outputs": [
    {
     "name": "stdout",
     "output_type": "stream",
     "text": [
      "{} <class 'dict'>\n"
     ]
    }
   ],
   "source": [
    "a.clear()       # 빈사전생성\n",
    "print(a,type(a))"
   ]
  },
  {
   "cell_type": "code",
   "execution_count": 81,
   "metadata": {},
   "outputs": [
    {
     "name": "stdout",
     "output_type": "stream",
     "text": [
      "{'a': 1, 'b': 1, 'c': 1, 'd': 1, 'e': 1, 'f': 1, 'g': 1}\n",
      "<class 'dict'>\n"
     ]
    }
   ],
   "source": [
    "# dict comprehension(사전 내장)\n",
    "a = { k:1 for k in 'abcdefg'}\n",
    "print(a)\n",
    "print(type(a))"
   ]
  },
  {
   "cell_type": "code",
   "execution_count": 83,
   "metadata": {},
   "outputs": [
    {
     "name": "stdout",
     "output_type": "stream",
     "text": [
      "{'a': 1, 'b': 1, 'd': 1, 'e': 1, 'f': 1, 'g': 1}\n"
     ]
    }
   ],
   "source": [
    "#  dict comprehension(사전 내장) : 조건문 사용\n",
    "a = { k:1 for k in 'abcdefg' if k != 'c'}\n",
    "print(a)"
   ]
  },
  {
   "cell_type": "code",
   "execution_count": 72,
   "metadata": {},
   "outputs": [
    {
     "name": "stdout",
     "output_type": "stream",
     "text": [
      "{'name': '0', 'age': '0', 'phone': '0', 'birth': '0', 10: '0'}\n"
     ]
    }
   ],
   "source": [
    "b = ['name','age','phone','birth',10]\n",
    "a = {k:'0' for k in b}\n",
    "print(a)"
   ]
  },
  {
   "cell_type": "code",
   "execution_count": 79,
   "metadata": {},
   "outputs": [
    {
     "name": "stdout",
     "output_type": "stream",
     "text": [
      "[('name', '김철수'), ('age', 30), ('phone', '010-1234-1234'), ('birth', '20200416'), (10, 100)]\n",
      "{'name': '김철수', 'age': 30, 'phone': '010-1234-1234', 'birth': '20200416', 10: 100}\n"
     ]
    }
   ],
   "source": [
    "a1 = ['name','age','phone','birth',10]\n",
    "a2 = ['김철수',30,'010-1234-1234','20200416',100]\n",
    "\n",
    "# a = {a1[0]:a2[0],a1[1]:a2[1],.......}\n",
    "\n",
    "# zip() 함수\n",
    "l = list(zip(a1,a2))\n",
    "print(l)\n",
    "\n",
    "# 두개의 서로 다른 리스트를 사용하여 한개의 사전을 생성\n",
    "a = { x:y for x,y in zip(a1,a2) }\n",
    "print(a)"
   ]
  },
  {
   "cell_type": "code",
   "execution_count": 7,
   "metadata": {},
   "outputs": [
    {
     "data": {
      "text/plain": [
       "{'a': 0, 'b': 1, 'c': 2, 'd': 3, 'e': 4, 'f': 5, 'g': 6}"
      ]
     },
     "execution_count": 7,
     "metadata": {},
     "output_type": "execute_result"
    }
   ],
   "source": [
    "# enumerate() : 인덱스와 요소값을 함께 튜플로 변환\n",
    "s = 'abcdefg'\n",
    "a = {k:m for m,k in enumerate(s)}\n",
    "a"
   ]
  },
  {
   "cell_type": "code",
   "execution_count": 12,
   "metadata": {},
   "outputs": [
    {
     "name": "stdout",
     "output_type": "stream",
     "text": [
      "['보', '보자기']\n"
     ]
    },
    {
     "data": {
      "text/plain": [
       "dict_items([('가위', '보'), ('바위', '가위'), ('보', '바위'), ('보자기', '바위')])"
      ]
     },
     "execution_count": 12,
     "metadata": {},
     "output_type": "execute_result"
    }
   ],
   "source": [
    "srp = {'가위':'보','바위':'가위','보':'바위', '보자기':'바위'}\n",
    "# 파이선 스타일 방식\n",
    "a = [x for x,y in srp.items() if y == '바위']\n",
    "print(a)\n",
    "srp.items()"
   ]
  },
  {
   "cell_type": "code",
   "execution_count": null,
   "metadata": {},
   "outputs": [],
   "source": []
  }
 ],
 "metadata": {
  "kernelspec": {
   "display_name": "Python 3",
   "language": "python",
   "name": "python3"
  },
  "language_info": {
   "codemirror_mode": {
    "name": "ipython",
    "version": 3
   },
   "file_extension": ".py",
   "mimetype": "text/x-python",
   "name": "python",
   "nbconvert_exporter": "python",
   "pygments_lexer": "ipython3",
   "version": "3.7.6"
  }
 },
 "nbformat": 4,
 "nbformat_minor": 4
}
