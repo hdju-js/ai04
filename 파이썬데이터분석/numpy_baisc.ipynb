{
 "cells": [
  {
   "cell_type": "markdown",
   "metadata": {},
   "source": [
    "### 넘파이(NumPy) : 배열(ndarray , n dimension array)\n",
    "\n",
    "* 리스트(List) : Linked List 구조(불연속), 동작 속도가 느리다, comma로 요소 구별, 서로 다른 자료형을 사용할 수 있다\n",
    "* 배열(ndarray) : 연속된 메모리 구조, 동작 속도가 빠르다, comma를 사용하지 않고 공백으로 요소 구별, 오직 한 가지의 타입만 갖을수 있다 "
   ]
  },
  {
   "cell_type": "code",
   "execution_count": 8,
   "metadata": {},
   "outputs": [
    {
     "name": "stdout",
     "output_type": "stream",
     "text": [
      "[0, 1, 2, 3, 4, 5, 'k', (1, 2)]\n",
      "<class 'list'>\n",
      "[0 1 2 3 4 5]\n",
      "<class 'numpy.ndarray'>\n",
      "int32\n"
     ]
    }
   ],
   "source": [
    "import numpy as np \n",
    "# pip install numpy \n",
    "\n",
    "# List\n",
    "list1 = [0,1,2,3,4,5]\n",
    "print(list1)\n",
    "print(type(list1))\n",
    "\n",
    "# 리스트를 사용해서 ndarray 생성\n",
    "a = np.array([0,1,2,3,4,5])  # 요소의 자료형을 동일하게 사용\n",
    "print(a)\n",
    "print(type(a))    # ndarray\n",
    "print(a.dtype)    # 요소의 자료형"
   ]
  },
  {
   "cell_type": "code",
   "execution_count": 11,
   "metadata": {},
   "outputs": [],
   "source": [
    "# Shift + Tab : 함수 나 모듈 및 변수 객체 위에 커서를 놓고 프로토 타입을 볼수 있다"
   ]
  },
  {
   "cell_type": "code",
   "execution_count": 20,
   "metadata": {},
   "outputs": [
    {
     "name": "stdout",
     "output_type": "stream",
     "text": [
      "[0. 1. 2. 3. 4.]\n",
      "<class 'numpy.ndarray'>\n",
      "float64\n"
     ]
    }
   ],
   "source": [
    "# int 와 float  ---> float\n",
    "a = np.array([0,1,2.,3,4])\n",
    "print(a)\n",
    "print(type(a))\n",
    "print(a.dtype)"
   ]
  },
  {
   "cell_type": "code",
   "execution_count": 21,
   "metadata": {},
   "outputs": [
    {
     "name": "stdout",
     "output_type": "stream",
     "text": [
      "['0' '1' '2.0' '3' 'Hello']\n",
      "<class 'numpy.ndarray'>\n",
      "<U32\n"
     ]
    }
   ],
   "source": [
    "# int / float  + str  ---> Unicode string\n",
    "a = np.array([0,1,2.,3,'Hello'])\n",
    "print(a)\n",
    "print(type(a))\n",
    "print(a.dtype)   # <U32 :  리틀엔디언, 유니코드, 최대 문자 32 byte\n",
    "\n",
    "# 유니코드 인코딩 방식\n",
    "# (1) EUC-KR , CP949(MS949) : 완성형, 한글 2바이트, 영문은 1바이트 , Windows\n",
    "# (2) UFT-8 : 조합형, 한글 3 바이트, 영문은 1 바이트, Linux"
   ]
  },
  {
   "cell_type": "code",
   "execution_count": 22,
   "metadata": {},
   "outputs": [
    {
     "data": {
      "text/plain": [
       "dict_keys(['?', 0, 'byte', 'b', 1, 'ubyte', 'B', 2, 'short', 'h', 3, 'ushort', 'H', 4, 'i', 5, 'uint', 'I', 6, 'intp', 'p', 9, 'uintp', 'P', 10, 'long', 'l', 7, 'L', 8, 'longlong', 'q', 'ulonglong', 'Q', 'half', 'e', 23, 'f', 11, 'double', 'd', 12, 'longdouble', 'g', 13, 'cfloat', 'F', 14, 'cdouble', 'D', 15, 'clongdouble', 'G', 16, 'O', 17, 'S', 18, 'unicode', 'U', 19, 'void', 'V', 20, 'M', 21, 'm', 22, 'bool8', 'Bool', 'b1', 'int64', 'Int64', 'i8', 'uint64', 'Uint64', 'u8', 'float16', 'Float16', 'f2', 'float32', 'Float32', 'f4', 'float64', 'Float64', 'f8', 'complex64', 'Complex32', 'c8', 'complex128', 'Complex64', 'c16', 'object0', 'Object0', 'bytes0', 'Bytes0', 'str0', 'Str0', 'void0', 'Void0', 'datetime64', 'Datetime64', 'M8', 'timedelta64', 'Timedelta64', 'm8', 'int32', 'Int32', 'i4', 'uint32', 'UInt32', 'u4', 'UInt64', 'int16', 'Int16', 'i2', 'uint16', 'UInt16', 'u2', 'int8', 'Int8', 'i1', 'uint8', 'UInt8', 'u1', 'complex_', 'int0', 'uint0', 'single', 'csingle', 'singlecomplex', 'float_', 'intc', 'uintc', 'int_', 'longfloat', 'clongfloat', 'longcomplex', 'bool_', 'bytes_', 'string_', 'unicode_', 'object_', 'str_', 'int', 'float', 'complex', 'bool', 'object', 'str', 'bytes', 'a'])"
      ]
     },
     "execution_count": 22,
     "metadata": {},
     "output_type": "execute_result"
    }
   ],
   "source": [
    "# numpy 의 dtype 객체의 종류 : 대소문자 모두 사용가능\n",
    "np.sctypeDict.keys()"
   ]
  },
  {
   "cell_type": "code",
   "execution_count": 30,
   "metadata": {},
   "outputs": [
    {
     "name": "stdout",
     "output_type": "stream",
     "text": [
      "['1.234' '3.123' '4.4356' '5' '7'] <U6\n",
      "[1.234  3.123  4.4356 5.     7.    ] float32\n",
      "[1 3 4 5 7] int32\n"
     ]
    }
   ],
   "source": [
    "# 배열의 데이터 타입 변환 : astype()\n",
    "a1 = np.array(['1.234','3.123','4.4356','5','7'])\n",
    "print(a1,a1.dtype)    # <U6 : 리틀엔디언, 유니코드, 최대 문자 6 byte\n",
    "\n",
    "a2 = a1.astype('float32')\n",
    "print(a2,a2.dtype)\n",
    "\n",
    "a3 = a2.astype('int32')\n",
    "print(a3,a3.dtype)"
   ]
  },
  {
   "cell_type": "markdown",
   "metadata": {},
   "source": [
    "### 차원 과 Shape\n",
    "\n",
    "* 차원(Dimension, Rank) : 1,2,3차원,n차원, 첫 데이터까지의 대괄호의 갯수\n",
    "* Shape : 차원의 요소들의 수, 튜플형식\n",
    "##### 1 차원 Shape  : ( x, )\n",
    "##### 2 차원 Shape  : ( x, y)\n",
    "##### 3 차원 Shape  : ( x,y,z )\n",
    "     ....\n",
    "##### n차원 Shape  : ( x,y,z,........ )      "
   ]
  },
  {
   "cell_type": "code",
   "execution_count": 47,
   "metadata": {},
   "outputs": [
    {
     "name": "stdout",
     "output_type": "stream",
     "text": [
      "[ 0  1  2  3  4  5  6  7  8  9 10 11] <class 'numpy.ndarray'>\n",
      "(12,)\n",
      "<class 'tuple'>\n",
      "12\n",
      "[2 3 4 5 6 7 8 9] <class 'numpy.ndarray'>\n",
      "(8,)\n",
      "[ 0  2  4  6  8 10 12 14] <class 'numpy.ndarray'>\n",
      "(8,)\n"
     ]
    }
   ],
   "source": [
    "# 1차원 배열의 Shape\n",
    "# arange(start,end + 1,step)\n",
    "a = np.arange(12)\n",
    "print(a,type(a))\n",
    "print(a.shape)   # (12,)\n",
    "t = a.shape\n",
    "print(type(t))   # tuple\n",
    "print(a.shape[0])\n",
    "\n",
    "a2 = np.arange(2,10)\n",
    "print(a2,type(a2))\n",
    "print(a2.shape)   # (8,)\n",
    "\n",
    "a3 = np.arange(0,16,2)\n",
    "print(a3,type(a3))\n",
    "print(a3.shape)   # (8,)"
   ]
  },
  {
   "cell_type": "code",
   "execution_count": 60,
   "metadata": {},
   "outputs": [
    {
     "name": "stdout",
     "output_type": "stream",
     "text": [
      "[[0 1 2]\n",
      " [0 1 2]]\n",
      "(2, 3)\n",
      "2 3\n"
     ]
    }
   ],
   "source": [
    "# 2차원 배열의 Shape  : 행(row,가로, 수직,  axis = 0) 과 열(column,세로,수평,axis = 1)  \n",
    "m = np.array([np.arange(3),np.arange(3)])\n",
    "# m = np.array([[0, 1, 2],[0, 1, 2]])\n",
    "print(m)\n",
    "print(m.shape)   # (2,3)\n",
    "print(m.shape[0],m.shape[1])"
   ]
  },
  {
   "cell_type": "code",
   "execution_count": 36,
   "metadata": {},
   "outputs": [
    {
     "data": {
      "text/plain": [
       "[0, 1, 2, 3, 4, 5, 6, 7, 8, 9, 10, 11]"
      ]
     },
     "execution_count": 36,
     "metadata": {},
     "output_type": "execute_result"
    }
   ],
   "source": [
    "list(range(12))"
   ]
  },
  {
   "cell_type": "code",
   "execution_count": 57,
   "metadata": {},
   "outputs": [
    {
     "data": {
      "text/plain": [
       "array([0, 1, 2])"
      ]
     },
     "execution_count": 57,
     "metadata": {},
     "output_type": "execute_result"
    }
   ],
   "source": [
    "\n",
    "m = np.arange(3)\n",
    "m"
   ]
  },
  {
   "cell_type": "code",
   "execution_count": null,
   "metadata": {},
   "outputs": [],
   "source": []
  }
 ],
 "metadata": {
  "kernelspec": {
   "display_name": "Python 3",
   "language": "python",
   "name": "python3"
  },
  "language_info": {
   "codemirror_mode": {
    "name": "ipython",
    "version": 3
   },
   "file_extension": ".py",
   "mimetype": "text/x-python",
   "name": "python",
   "nbconvert_exporter": "python",
   "pygments_lexer": "ipython3",
   "version": "3.7.6"
  }
 },
 "nbformat": 4,
 "nbformat_minor": 4
}
